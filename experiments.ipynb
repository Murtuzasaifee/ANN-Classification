{
 "cells": [
  {
   "cell_type": "code",
   "execution_count": null,
   "id": "03d41d52",
   "metadata": {},
   "outputs": [
    {
     "ename": "",
     "evalue": "",
     "output_type": "error",
     "traceback": [
      "\u001b[1;31mRunning cells with 'ann-dl (Python 3.11.8)' requires the ipykernel package.\n",
      "\u001b[1;31mInstall 'ipykernel' into the Python environment. \n",
      "\u001b[1;31mCommand: '\"/Users/murtuzasaifee/Documents/Personal/Codes/MLWorkspace/ANN Classification/ann-dl/bin/python\" -m pip install ipykernel -U --force-reinstall'"
     ]
    }
   ],
   "source": [
    "\n",
    "import pandas as pd\n",
    "from sklearn.model_selection import train_test_split\n",
    "from sklearn.preprocessing import StandardScaler, LabelEncoder\n",
    "import pickle"
   ]
  },
  {
   "cell_type": "code",
   "execution_count": null,
   "id": "2d05665f-5be1-4590-af5d-6ab712016714",
   "metadata": {},
   "outputs": [],
   "source": [
    "data = pd.read_csv(\"Churn_Modelling.csv\")\n",
    "data"
   ]
  },
  {
   "cell_type": "code",
   "execution_count": null,
   "id": "fe36bdb5",
   "metadata": {},
   "outputs": [],
   "source": [
    "## Preprocessing the data\n",
    "# Drop irrelevant columns\n",
    "data = data.drop(['RowNumber','CustomerId','Surname'], axis=1)\n",
    "data"
   ]
  },
  {
   "cell_type": "code",
   "execution_count": null,
   "id": "0afb0a49-5de3-4cc6-9fe7-0229618e2c66",
   "metadata": {},
   "outputs": [],
   "source": [
    "## Encode categorical variables\n",
    "label_encoder_gender = LabelEncoder()\n",
    "data['Gender']= label_encoder_gender.fit_transform(data['Gender'])\n",
    "data"
   ]
  },
  {
   "cell_type": "code",
   "execution_count": null,
   "id": "a17e9742-a34e-401a-aa12-248660c0390f",
   "metadata": {},
   "outputs": [],
   "source": [
    "## Onehot encode 'Geography\n",
    "from sklearn.preprocessing import OneHotEncoder\n",
    "onehot_encoder_geo=OneHotEncoder()\n",
    "geo_encoder=onehot_encoder_geo.fit_transform(data[['Geography']]).toarray()\n",
    "geo_encoder"
   ]
  },
  {
   "cell_type": "code",
   "execution_count": null,
   "id": "4e71fa41",
   "metadata": {},
   "outputs": [],
   "source": [
    "onehot_encoder_geo.get_feature_names_out(['Geography'])"
   ]
  },
  {
   "cell_type": "code",
   "execution_count": null,
   "id": "fbb5e8cf",
   "metadata": {},
   "outputs": [],
   "source": [
    "geo_encoded_df=pd.DataFrame(geo_encoder,columns=onehot_encoder_geo.get_feature_names_out(['Geography']))\n",
    "geo_encoded_df"
   ]
  },
  {
   "cell_type": "code",
   "execution_count": null,
   "id": "daf9adbe",
   "metadata": {},
   "outputs": [],
   "source": [
    "## combine one hot encoded columns with original data\n",
    "data = pd.concat([data.drop(['Geography'], axis=1), geo_encoded_df], axis=1)\n",
    "data"
   ]
  },
  {
   "cell_type": "code",
   "execution_count": null,
   "id": "028ed725",
   "metadata": {},
   "outputs": [],
   "source": [
    " ## Save the encoders\n",
    " with open('label_encoder_gender.pkl', 'wb') as file:\n",
    "     pickle.dump(label_encoder_gender, file)\n",
    "     \n",
    " with open('one_hot_encoder_geo.pkl', 'wb') as file:\n",
    "     pickle.dump(onehot_encoder_geo, file)\n",
    "     "
   ]
  },
  {
   "cell_type": "code",
   "execution_count": null,
   "id": "b20030fa",
   "metadata": {},
   "outputs": [],
   "source": [
    "## Divide the dataset into independent and dependent features\n",
    "X = data.drop('Exited', axis=1)\n",
    "y = data['Exited']\n",
    "\n",
    "## Split the dataset into training and testing sets\n",
    "X_train, X_test, y_train, y_test = train_test_split(X, y, test_size=0.2, random_state=42)\n",
    "\n",
    "## Scale the features\n",
    "scaler = StandardScaler()\n",
    "X_train = scaler.fit_transform(X_train)\n",
    "X_test = scaler.transform(X_test)\n"
   ]
  },
  {
   "cell_type": "code",
   "execution_count": null,
   "id": "4edd55dc",
   "metadata": {},
   "outputs": [],
   "source": [
    "## Save the scaler\n",
    "with open('scaler.pkl', 'wb') as file:\n",
    "    pickle.dump(scaler, file)"
   ]
  },
  {
   "cell_type": "code",
   "execution_count": null,
   "id": "b9fe676b",
   "metadata": {},
   "outputs": [],
   "source": [
    "## ANN Implementation\n",
    "\n",
    "import tensorflow as tf\n",
    "from tensorflow.keras.models import Sequential\n",
    "from tensorflow.keras.layers import Dense\n",
    "from tensorflow.keras.callbacks import EarlyStopping, TensorBoard\n",
    "\n",
    "import datetime"
   ]
  },
  {
   "cell_type": "code",
   "execution_count": null,
   "id": "028c8751",
   "metadata": {},
   "outputs": [],
   "source": [
    "X_train.shape[1]"
   ]
  },
  {
   "cell_type": "code",
   "execution_count": null,
   "id": "39a9fb00",
   "metadata": {},
   "outputs": [],
   "source": [
    "(X_train.shape[1],0)"
   ]
  },
  {
   "cell_type": "code",
   "execution_count": null,
   "id": "415a978b",
   "metadata": {},
   "outputs": [],
   "source": [
    "## Build ANN Model\n",
    "\n",
    "model = Sequential([\n",
    "     Dense(64, activation='relu', input_shape=(X_train.shape[1],)), ## HL1 connected with input layer\n",
    "     Dense(32, activation='relu'), ## HL2\n",
    "     Dense(1, activation='sigmoid') ## Output layer\n",
    "])"
   ]
  },
  {
   "cell_type": "code",
   "execution_count": null,
   "id": "ba235fc3",
   "metadata": {},
   "outputs": [],
   "source": [
    "model.summary()"
   ]
  },
  {
   "cell_type": "code",
   "execution_count": null,
   "id": "d89430f8",
   "metadata": {},
   "outputs": [],
   "source": [
    "## Optimizers\n",
    "\n",
    "opt = tf.keras.optimizers.Adam(learning_rate=0.001)\n",
    "loss = tf.keras.losses.BinaryCrossentropy()"
   ]
  },
  {
   "cell_type": "code",
   "execution_count": null,
   "id": "6b4d3aeb",
   "metadata": {},
   "outputs": [],
   "source": [
    "## compile the model\n",
    "\n",
    "model.compile(optimizer=opt, loss = loss, metrics=['accuracy'])"
   ]
  },
  {
   "cell_type": "code",
   "execution_count": null,
   "id": "2b55c8f9",
   "metadata": {},
   "outputs": [],
   "source": [
    "## Setup the Tensorboard\n",
    "log_dir = \"logs/fit/\" + datetime.datetime.now().strftime(\"%Y%m%d-%H%M%S\")\n",
    "\n",
    "tensorflow_callback = TensorBoard(log_dir=log_dir, histogram_freq=1)"
   ]
  },
  {
   "cell_type": "code",
   "execution_count": null,
   "id": "12668e96",
   "metadata": {},
   "outputs": [],
   "source": [
    "## Setup Early Stopping - \n",
    "# This is to stop the training if the model if there is no change in the loss value or no improvements. \n",
    "# So that it doesn't need to continue with all the epochs.\n",
    "\n",
    "early_stopping_callback = EarlyStopping(monitor='val_loss', patience=5, restore_best_weights=True)"
   ]
  },
  {
   "cell_type": "code",
   "execution_count": null,
   "id": "466f4efb",
   "metadata": {},
   "outputs": [],
   "source": [
    "## Train the Model\n",
    "\n",
    "history=model.fit(\n",
    "    X_train,y_train,validation_data=(X_test,y_test),epochs=100,\n",
    "    callbacks=[tensorflow_callback,early_stopping_callback]\n",
    ")"
   ]
  },
  {
   "cell_type": "code",
   "execution_count": null,
   "id": "1ec28258",
   "metadata": {},
   "outputs": [],
   "source": [
    "## Save model file\n",
    "\n",
    "model.save('model.keras')"
   ]
  },
  {
   "cell_type": "code",
   "execution_count": null,
   "id": "c42efe55",
   "metadata": {},
   "outputs": [],
   "source": [
    "## Load Tensord Extension\n",
    "%load_ext tensorboard\n",
    "\n"
   ]
  },
  {
   "cell_type": "code",
   "execution_count": null,
   "id": "e448fa95",
   "metadata": {},
   "outputs": [],
   "source": [
    "%tensorboard --logdir logs/fit"
   ]
  }
 ],
 "metadata": {
  "kernelspec": {
   "display_name": "ann-dl",
   "language": "python",
   "name": "python3"
  },
  "language_info": {
   "codemirror_mode": {
    "name": "ipython",
    "version": 3
   },
   "file_extension": ".py",
   "mimetype": "text/x-python",
   "name": "python",
   "nbconvert_exporter": "python",
   "pygments_lexer": "ipython3",
   "version": "3.11.8"
  }
 },
 "nbformat": 4,
 "nbformat_minor": 5
}
